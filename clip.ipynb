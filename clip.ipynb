{
 "cells": [
  {
   "cell_type": "code",
   "execution_count": 1,
   "metadata": {},
   "outputs": [
    {
     "name": "stderr",
     "output_type": "stream",
     "text": [
      "/home/adkishor/anaconda3/envs/DL/lib/python3.9/site-packages/tqdm/auto.py:21: TqdmWarning: IProgress not found. Please update jupyter and ipywidgets. See https://ipywidgets.readthedocs.io/en/stable/user_install.html\n",
      "  from .autonotebook import tqdm as notebook_tqdm\n"
     ]
    }
   ],
   "source": [
    "from PIL import Image\n",
    "import requests\n",
    "\n",
    "from transformers import CLIPProcessor, CLIPModel\n",
    "\n",
    "model = CLIPModel.from_pretrained(\"openai/clip-vit-base-patch32\")\n",
    "processor = CLIPProcessor.from_pretrained(\"openai/clip-vit-base-patch32\")\n",
    "\n",
    "# url = \"http://images.cocodataset.org/val2017/000000039769.jpg\"\n",
    " # we can take the softmax to get the label probabilities"
   ]
  },
  {
   "attachments": {},
   "cell_type": "markdown",
   "metadata": {},
   "source": [
    "# Photo of dog the left of a cat (Original Test)\n",
    "\n",
    "- 51.5% correct\n",
    "- 48.5% incorrect"
   ]
  },
  {
   "cell_type": "code",
   "execution_count": 10,
   "metadata": {},
   "outputs": [
    {
     "name": "stdout",
     "output_type": "stream",
     "text": [
      "tensor([[0.4905, 0.5095]], grad_fn=<SoftmaxBackward0>)\n"
     ]
    }
   ],
   "source": [
    "image = Image.open('dogcat.jpeg')\n",
    "\n",
    "inputs = processor(text=[\"a photo of dog to the left of a cat\", \"a photo of dog to the right of a cat\"], images=image, return_tensors=\"pt\", padding=True)\n",
    "\n",
    "outputs = model(**inputs)\n",
    "logits_per_image = outputs.logits_per_image  # this is the image-text similarity score\n",
    "probs = logits_per_image.softmax(dim=1) \n",
    "print(probs)"
   ]
  },
  {
   "attachments": {},
   "cell_type": "markdown",
   "metadata": {},
   "source": [
    "# Photo of dog to the left of a cat/photo of cat to the right of a dog.\n",
    "\n",
    "## This should be close to 50-50, inferring from above results\n",
    "\n",
    "- first sentence: 58.6%\n",
    "- second sentence: 41.4%"
   ]
  },
  {
   "cell_type": "code",
   "execution_count": 12,
   "metadata": {},
   "outputs": [
    {
     "name": "stdout",
     "output_type": "stream",
     "text": [
      "tensor([[0.5862, 0.4138]], grad_fn=<SoftmaxBackward0>)\n"
     ]
    }
   ],
   "source": [
    "image = Image.open('dogcat.jpeg')\n",
    "\n",
    "inputs = processor(text=[\"a photo of dog to the left of a cat\", \"a photo of cat to the right of a dog\"], images=image, return_tensors=\"pt\", padding=True)\n",
    "\n",
    "outputs = model(**inputs)\n",
    "logits_per_image = outputs.logits_per_image  # this is the image-text similarity score\n",
    "probs = logits_per_image.softmax(dim=1) \n",
    "print(probs)"
   ]
  },
  {
   "attachments": {},
   "cell_type": "markdown",
   "metadata": {},
   "source": [
    "# Photo of dog to the left of a cat/Photo of cat to the right of a dog\n",
    "\n",
    "- Inputs:\n",
    "1. a photo of dog to the left of a cat (26.5%) ** (Correct) **\n",
    "2. a photo of cat to the right of a dog (18.7%) ** (Correct) **\n",
    "3. a photo of cat to the left of a dog (22.4%)\n",
    "4. a photo of dog to the right of a cat (32.45%)"
   ]
  },
  {
   "cell_type": "code",
   "execution_count": 29,
   "metadata": {},
   "outputs": [
    {
     "name": "stdout",
     "output_type": "stream",
     "text": [
      "tensor([[0.2647, 0.1868, 0.2240, 0.3245]], grad_fn=<SoftmaxBackward0>)\n"
     ]
    }
   ],
   "source": [
    "image = Image.open('dogcat.jpeg')\n",
    "\n",
    "inputs = processor(text=[\"a photo of dog to the left of a cat\", \"a photo of cat to the right of a dog\", \"a photo of cat to left of a dog\", \"a photo of dog to the right of a cat.\"], images=image, return_tensors=\"pt\", padding=True)\n",
    "\n",
    "outputs = model(**inputs)\n",
    "logits_per_image = outputs.logits_per_image  # this is the image-text similarity score\n",
    "probs = logits_per_image.softmax(dim=1) \n",
    "print(probs)"
   ]
  },
  {
   "cell_type": "code",
   "execution_count": 36,
   "metadata": {},
   "outputs": [
    {
     "name": "stdout",
     "output_type": "stream",
     "text": [
      "tensor([[0.3861, 0.2725, 0.1459, 0.1955]], grad_fn=<SoftmaxBackward0>)\n"
     ]
    }
   ],
   "source": [
    "image = Image.open('dogcat.jpeg')\n",
    "\n",
    "inputs = processor(text=[\"a photo of dog to the left of a cat\", \"a photo of cat to the right of a dog\", \"a photo of a cat and a dog\", \"a photo of a dog and a cat\"], images=image, return_tensors=\"pt\", padding=True)\n",
    "\n",
    "outputs = model(**inputs)\n",
    "logits_per_image = outputs.logits_per_image  # this is the image-text similarity score\n",
    "probs = logits_per_image.softmax(dim=1) \n",
    "print(probs)"
   ]
  },
  {
   "attachments": {},
   "cell_type": "markdown",
   "metadata": {},
   "source": [
    "# Between checks perfromance is good"
   ]
  },
  {
   "cell_type": "code",
   "execution_count": 26,
   "metadata": {},
   "outputs": [
    {
     "name": "stdout",
     "output_type": "stream",
     "text": [
      "tensor([[0.6576, 0.3424]], grad_fn=<SoftmaxBackward0>)\n"
     ]
    }
   ],
   "source": [
    "image = Image.open('catbetweendogs.jpeg')\n",
    "\n",
    "inputs = processor(text=[\"a photo of cat between dog\", \"a photo of dog between cat\"], images=image, return_tensors=\"pt\", padding=True)\n",
    "\n",
    "outputs = model(**inputs)\n",
    "logits_per_image = outputs.logits_per_image  # this is the image-text similarity score\n",
    "probs = logits_per_image.softmax(dim=1) \n",
    "print(probs)"
   ]
  },
  {
   "cell_type": "code",
   "execution_count": 28,
   "metadata": {},
   "outputs": [
    {
     "name": "stdout",
     "output_type": "stream",
     "text": [
      "tensor([[0.8190, 0.1810]], grad_fn=<SoftmaxBackward0>)\n"
     ]
    }
   ],
   "source": [
    "image = Image.open('catbetweendogs.jpeg')\n",
    "\n",
    "inputs = processor(text=[\"a photo of cat between dogs\", \"a photo of dog between cats\"], images=image, return_tensors=\"pt\", padding=True)\n",
    "\n",
    "outputs = model(**inputs)\n",
    "logits_per_image = outputs.logits_per_image  # this is the image-text similarity score\n",
    "probs = logits_per_image.softmax(dim=1) \n",
    "print(probs)"
   ]
  },
  {
   "cell_type": "code",
   "execution_count": 30,
   "metadata": {},
   "outputs": [
    {
     "name": "stdout",
     "output_type": "stream",
     "text": [
      "tensor([[0.4437, 0.5563]], grad_fn=<SoftmaxBackward0>)\n"
     ]
    }
   ],
   "source": [
    "image = Image.open('catbetweendogs.jpeg')\n",
    "\n",
    "inputs = processor(text=[\"a photo of cat between dogs\", \"a photo of dogs and cats\"], images=image, return_tensors=\"pt\", padding=True)\n",
    "\n",
    "outputs = model(**inputs)\n",
    "logits_per_image = outputs.logits_per_image  # this is the image-text similarity score\n",
    "probs = logits_per_image.softmax(dim=1) \n",
    "print(probs)"
   ]
  },
  {
   "attachments": {},
   "cell_type": "markdown",
   "metadata": {},
   "source": [
    "# Testing on 364 left right images with CLIP base model clip-vit-base-patch32"
   ]
  },
  {
   "cell_type": "code",
   "execution_count": 2,
   "metadata": {},
   "outputs": [
    {
     "name": "stderr",
     "output_type": "stream",
     "text": [
      "[nltk_data] Downloading package punkt to /home/adkishor/nltk_data...\n",
      "[nltk_data]   Package punkt is already up-to-date!\n",
      "[nltk_data] Downloading package averaged_perceptron_tagger to\n",
      "[nltk_data]     /home/adkishor/nltk_data...\n",
      "[nltk_data]   Package averaged_perceptron_tagger is already up-to-\n",
      "[nltk_data]       date!\n"
     ]
    },
    {
     "data": {
      "text/plain": [
       "True"
      ]
     },
     "execution_count": 2,
     "metadata": {},
     "output_type": "execute_result"
    }
   ],
   "source": [
    "import os\n",
    "import cv2\n",
    "import nltk\n",
    "from nltk.tokenize import word_tokenize, sent_tokenize\n",
    "from nltk.tag import pos_tag\n",
    "nltk.download('punkt')\n",
    "nltk.download('averaged_perceptron_tagger')\n"
   ]
  },
  {
   "cell_type": "code",
   "execution_count": 3,
   "metadata": {},
   "outputs": [
    {
     "name": "stdout",
     "output_type": "stream",
     "text": [
      "364\n"
     ]
    }
   ],
   "source": [
    "images = os.listdir('Left-right images')\n",
    "print(len(images))"
   ]
  },
  {
   "cell_type": "code",
   "execution_count": 4,
   "metadata": {},
   "outputs": [
    {
     "name": "stdout",
     "output_type": "stream",
     "text": [
      "{'correct': 'plant left of bed', 'op_dir_incorrect': 'plant right of bed', 's_s_f_correct': 'bed to the right of plant', 'f_o_s_incorrect': 'bed to the left of plant'}\n",
      "{'correct': 'a monkey to the left of a tiger', 'op_dir_incorrect': 'a monkey to the right of a tiger', 's_s_f_correct': 'tiger to the right of monkey', 'f_o_s_incorrect': 'tiger to the left of monkey'}\n",
      "{'correct': 'plant left of couch', 'op_dir_incorrect': 'plant right of couch', 's_s_f_correct': 'couch to the right of plant', 'f_o_s_incorrect': 'couch to the left of plant'}\n",
      "{'correct': 'stop sign to the right of a car', 'op_dir_incorrect': 'stop sign to the left of a car', 's_s_f_correct': 'car to the left of stop sign', 'f_o_s_incorrect': 'car to the right of stop sign'}\n",
      "{'correct': 'plant right of couch', 'op_dir_incorrect': 'plant left of couch', 's_s_f_correct': 'couch to the left of plant', 'f_o_s_incorrect': 'couch to the right of plant'}\n",
      "{'correct': ' stop sign to the right of a car', 'op_dir_incorrect': ' stop sign to the left of a car', 's_s_f_correct': 'car to the left of stop sign', 'f_o_s_incorrect': 'car to the right of stop sign'}\n",
      "{'correct': 'a refrigerator to the right of an oven', 'op_dir_incorrect': 'a refrigerator to the left of an oven', 's_s_f_correct': 'oven to the left of refrigerator', 'f_o_s_incorrect': 'oven to the right of refrigerator'}\n",
      "{'correct': 'brocoli on right of cat', 'op_dir_incorrect': 'brocoli on left of cat', 's_s_f_correct': 'cat to the left of brocoli', 'f_o_s_incorrect': 'cat to the right of brocoli'}\n",
      "{'correct': 'a white refrigerator to the left of an oven', 'op_dir_incorrect': 'a white refrigerator to the right of an oven', 's_s_f_correct': 'oven to the right of white refrigerator', 'f_o_s_incorrect': 'oven to the left of white refrigerator'}\n",
      "{'correct': 'a red fire hydrant to the left of red flowers', 'op_dir_incorrect': 'a red fire hydrant to the right of red flowers', 's_s_f_correct': 'red flowers to the right of red fire hydrant', 'f_o_s_incorrect': 'red flowers to the left of red fire hydrant'}\n"
     ]
    }
   ],
   "source": [
    "def generate_neg_prompt(sentence):\n",
    "    # check if first character is a digit\n",
    "    all_sentences = {}\n",
    "    flag = None\n",
    "    if sentence[0].isdigit():\n",
    "        sentence = sentence[1:]\n",
    "        all_sentences['correct'] = sentence\n",
    "    else:\n",
    "        all_sentences['correct'] = sentence  \n",
    "    # check if sentence has left or right in it\n",
    "    if 'left' in sentence:\n",
    "        sentence = sentence.replace('left', 'right')\n",
    "        all_sentences['op_dir_incorrect'] = sentence\n",
    "        # split the sentence on basis of right\n",
    "        split_sentence = sentence.split('right')\n",
    "        op_flag = 'left'\n",
    "        flag = 'right'\n",
    "\n",
    "    elif 'right' in sentence:\n",
    "        sentence = sentence.replace('right', 'left')\n",
    "        all_sentences['op_dir_incorrect'] = sentence\n",
    "        # split the sentence on basis of left\n",
    "        split_sentence = sentence.split('left')\n",
    "        op_flag = 'right'\n",
    "        flag = 'left'\n",
    "\n",
    "    first, second = split_sentence\n",
    "    \n",
    "    second = second.split(' ')\n",
    "    first = first.split(' ')\n",
    "    first_object, second_object = list(), list()\n",
    "    #print(first)\n",
    "    for words in first:\n",
    "        #print(words)\n",
    "        if words not in ['a', 'an', 'the', 'to', 'of', 'on', '']:\n",
    "            first_object.append(words)\n",
    "    for words in second:\n",
    "        #print(words)\n",
    "        if words not in ['a', 'an', 'the', 'to', 'of', 'on', '']:\n",
    "            second_object.append(words)\n",
    "\n",
    "    all_sentences['s_s_f_correct'] = ' '.join(second_object) + ' to the ' + flag + ' of ' + ' '.join(first_object)\n",
    "    all_sentences['f_o_s_incorrect'] = ' '.join(second_object) + ' to the ' + op_flag + ' of ' + ' '.join(first_object)\n",
    "    return all_sentences\n",
    "        \n",
    "sentences = [\n",
    "    \"1plant left of bed.jpeg\",\n",
    "\"0a monkey to the left of a tiger.jpeg\",\n",
    "\"3plant left of couch.jpeg\",\n",
    "\"3stop sign to the right of a car.jpeg\",\n",
    "\"7plant right of couch.jpeg\",\n",
    "\"0 stop sign to the right of a car.jpeg\",\n",
    "\"a refrigerator to the right of an oven.jpg\",\n",
    "\"1brocoli on right of cat.jpeg\",\n",
    "\"a white refrigerator to the left of an oven.jpg\",\n",
    "\"a red fire hydrant to the left of red flowers.jpg\",\n",
    "]\n",
    "\n",
    "for sent in sentences:\n",
    "    sent = sent.split('.')[0]\n",
    "    print(generate_neg_prompt(sent))"
   ]
  },
  {
   "attachments": {},
   "cell_type": "markdown",
   "metadata": {},
   "source": [
    "# Check Correct and incorrect with 2 prompts"
   ]
  },
  {
   "cell_type": "code",
   "execution_count": 5,
   "metadata": {},
   "outputs": [
    {
     "name": "stdout",
     "output_type": "stream",
     "text": [
      "Weightage on average to correct prompt:  0.7826025346396389\n",
      "Weightage on average to incorrect prompt:  0.217397466418973\n"
     ]
    }
   ],
   "source": [
    "correct, incorrect = 0, 0\n",
    "images = os.listdir('Left-right images')\n",
    "for image_name in images:\n",
    "    image = Image.open('Left-right images/' + image_name)\n",
    "    original, dir_reversed, second_correct, reverse_incorrect = generate_neg_prompt(image_name.split('.')[0])\n",
    "    \n",
    "    inputs = processor(text=['a photo of '+original, 'a photo of '+ dir_reversed], images=image, return_tensors=\"pt\", padding=True)\n",
    "\n",
    "    outputs = model(**inputs)\n",
    "    logits_per_image = outputs.logits_per_image  # this is the image-text similarity score\n",
    "    probs = logits_per_image.softmax(dim=1)\n",
    "    correct+=float(probs[0][0])\n",
    "    incorrect+=float(probs[0][1])\n",
    "\n",
    "print(\"Weightage on average to correct prompt: \", correct/len(images))\n",
    "print(\"Weightage on average to incorrect prompt: \", incorrect/len(images))"
   ]
  },
  {
   "cell_type": "code",
   "execution_count": 91,
   "metadata": {},
   "outputs": [
    {
     "name": "stdout",
     "output_type": "stream",
     "text": [
      "Weightage on average to correct prompt:  0.27059442924008104\n",
      "Weightage on average to incorrect prompt:  0.10592738067082662\n",
      "Weightage on average to second correct prompt:  0.6081592458822243\n",
      "Weightage on average to reverse incorrect prompt:  0.015318939988866567\n"
     ]
    }
   ],
   "source": [
    "correct, incorrect, r_correct, r_incorrect = 0, 0,0,0\n",
    "images = os.listdir('Left-right images')\n",
    "for image_name in images:\n",
    "    image = Image.open('Left-right images/' + image_name)\n",
    "    original, dir_reversed, second_correct, reverse_incorrect = generate_neg_prompt(image_name.split('.')[0])\n",
    "    \n",
    "    inputs = processor(text=['a photo of '+original,'a photo of '+ dir_reversed, 'a photo of '+ second_correct, 'a photo of '+reverse_incorrect], images=image, return_tensors=\"pt\", padding=True)\n",
    "\n",
    "    outputs = model(**inputs)\n",
    "    logits_per_image = outputs.logits_per_image  # this is the image-text similarity score\n",
    "    probs = logits_per_image.softmax(dim=1)\n",
    "    correct+=float(probs[0][0])\n",
    "    incorrect+=float(probs[0][1])\n",
    "    r_correct+=float(probs[0][2])\n",
    "    r_incorrect+=float(probs[0][3])\n",
    "\n",
    "print(\"Weightage on average to correct prompt: \", correct/len(images))\n",
    "print(\"Weightage on average to incorrect prompt: \", incorrect/len(images))\n",
    "print(\"Weightage on average to second correct prompt: \", r_correct/len(images))\n",
    "print(\"Weightage on average to reverse incorrect prompt: \", r_incorrect/len(images))"
   ]
  },
  {
   "cell_type": "code",
   "execution_count": 6,
   "metadata": {},
   "outputs": [],
   "source": [
    "from PIL import Image\n",
    "import requests\n",
    "from transformers import CLIPProcessor, CLIPModel\n",
    "import os\n",
    "\n",
    "model = CLIPModel.from_pretrained(\"openai/clip-vit-base-patch32\")\n",
    "processor = CLIPProcessor.from_pretrained(\"openai/clip-vit-base-patch32\")\n",
    "\n",
    "# read all files in dalle_imgs_2objects\n",
    "image_files = [f for f in os.listdir('Left-right images')]\n",
    "directions = {\"left\": \"right\", \"right\": \"left\", \"above\": \"below\", \"below\": \"above\"}\n",
    "\n",
    " \n",
    "total_images = len(image_files)\n",
    "check_images = 0\n",
    "probs = [0.5, 0.55, 0.6, 0.65, 0.7, 0.75, 0.8, 0.85, 0.9, 0.95, 0.99]\n",
    "percentage_confident_images = list()\n",
    "precentage_correct_conf = list()\n",
    "precentage_incorrect_conf = list()\n",
    "percentage_avg_conf = list()\n",
    "for p in probs:\n",
    "    wrong_confidence = 0\n",
    "    correct_confidence = 0\n",
    "    total_prob = 0\n",
    "    for image_file in image_files:\n",
    "        # print('$$1$$')\n",
    "        # print(image_file)\n",
    "        image_name = image_file.split('.')[0]\n",
    "        # load image\n",
    "        image = Image.open(os.path.join('Left-right images', image_file))\n",
    "        \n",
    "        # get file name without extension\n",
    "        if image_name[0].isdigit():\n",
    "            image_name = image_name[1:]\n",
    "        # print('$$2$$')\n",
    "        # print(image_name)\n",
    "\n",
    "        negate_image_name = ' '.join([directions.get(word, word) for word in image_name.split()])\n",
    "        # print('$$3$$')\n",
    "        # print(negate_image_name)\n",
    "\n",
    "        inputs = processor(text=['a photo of '+image_name,'a photo of '+ negate_image_name], images=image, return_tensors=\"pt\", padding=True)\n",
    "\n",
    "        outputs = model(**inputs)\n",
    "        logits_per_image = outputs.logits_per_image\n",
    "        probs = logits_per_image.softmax(dim=1)\n",
    "        total_prob += probs[0][1].item()\n",
    "\n",
    "        if probs[0][1].item() >= p:\n",
    "            wrong_confidence += 1\n",
    "        if probs[0][0].item() >= p:\n",
    "            correct_confidence += 1\n",
    "\n",
    "        total_confidence = wrong_confidence + correct_confidence\n",
    "\n",
    "    percentage_confident_images.append(total_confidence/total_images)\n",
    "    precentage_correct_conf.append(correct_confidence/total_images)\n",
    "    precentage_incorrect_conf.append(wrong_confidence/total_images)\n",
    "    percentage_avg_conf.append(total_prob/total_images)\n",
    "\n",
    "\n"
   ]
  },
  {
   "cell_type": "code",
   "execution_count": 7,
   "metadata": {},
   "outputs": [
    {
     "name": "stdout",
     "output_type": "stream",
     "text": [
      "[1.0, 0.7142857142857143, 0.4725274725274725, 0.3131868131868132, 0.20604395604395603, 0.10714285714285714, 0.054945054945054944, 0.016483516483516484, 0.008241758241758242, 0.0, 0.0]\n",
      "[0.5357142857142857, 0.3791208791208791, 0.2664835164835165, 0.1813186813186813, 0.11813186813186813, 0.057692307692307696, 0.03296703296703297, 0.008241758241758242, 0.0027472527472527475, 0.0, 0.0]\n",
      "[0.4642857142857143, 0.33516483516483514, 0.20604395604395603, 0.13186813186813187, 0.08791208791208792, 0.04945054945054945, 0.02197802197802198, 0.008241758241758242, 0.005494505494505495, 0.0, 0.0]\n",
      "[0.4889646211823264, 0.4889646211823264, 0.4889646211823264, 0.4889646211823264, 0.4889646211823264, 0.4889646211823264, 0.4889646211823264, 0.4889646211823264, 0.4889646211823264, 0.4889646211823264, 0.4889646211823264]\n"
     ]
    }
   ],
   "source": [
    "print(percentage_confident_images)\n",
    "print(precentage_correct_conf)\n",
    "print(precentage_incorrect_conf)\n",
    "print(percentage_avg_conf)"
   ]
  },
  {
   "cell_type": "code",
   "execution_count": 4,
   "metadata": {},
   "outputs": [],
   "source": [
    "image_name = 'stop sign to the right of a car'\n",
    "negate_image_name = ' '.join([directions.get(word, word) for word in image_name.split()])\n"
   ]
  },
  {
   "cell_type": "code",
   "execution_count": 5,
   "metadata": {},
   "outputs": [
    {
     "data": {
      "text/plain": [
       "'stop sign to the left of a car'"
      ]
     },
     "execution_count": 5,
     "metadata": {},
     "output_type": "execute_result"
    }
   ],
   "source": [
    "negate_image_name"
   ]
  },
  {
   "cell_type": "code",
   "execution_count": 31,
   "metadata": {},
   "outputs": [
    {
     "name": "stdout",
     "output_type": "stream",
     "text": [
      "['a', 'white', 'vase', 'to', 'the', 'left', 'of', 'a', 'microwave']\n"
     ]
    },
    {
     "data": {
      "text/plain": [
       "'right'"
      ]
     },
     "execution_count": 31,
     "metadata": {},
     "output_type": "execute_result"
    }
   ],
   "source": [
    "print(image_name.split())\n",
    "directions.get('left', 'stop')"
   ]
  },
  {
   "cell_type": "code",
   "execution_count": 14,
   "metadata": {},
   "outputs": [
    {
     "name": "stderr",
     "output_type": "stream",
     "text": [
      "/tmp/ipykernel_7109/1350348389.py:14: MatplotlibDeprecationWarning: The seaborn styles shipped by Matplotlib are deprecated since 3.6, as they no longer correspond to the styles shipped by seaborn. However, they will remain available as 'seaborn-v0_8-<style>'. Alternatively, directly use the seaborn API instead.\n",
      "  plt.style.use('seaborn-whitegrid')\n"
     ]
    },
    {
     "data": {
      "image/png": "[encoded data removed]",
      "text/plain": [
       "<Figure size 640x480 with 1 Axes>"
      ]
     },
     "metadata": {},
     "output_type": "display_data"
    }
   ],
   "source": [
    "# plot probs vs percentage confident images\n",
    "# plot probs vs percentage correct confident images\n",
    "# plot probs vs percentage incorrect confident images\n",
    "# plot probs vs average confidence\n",
    "import matplotlib.pyplot as plt\n",
    "\n",
    "probs = [0.5, 0.55, 0.6, 0.65, 0.7, 0.75, 0.8, 0.85, 0.9, 0.95, 0.99]\n",
    "# percentage_confident_images = [10, 20, 30, 40, 50, 60, 70, 80, 90, 95, 99]\n",
    "# precentage_correct_conf = [70, 75, 80, 85, 90, 92, 94, 96, 97, 98, 99]\n",
    "# precentage_incorrect_conf = [30, 25, 20, 15, 10, 8, 6, 4, 3, 2, 1]\n",
    "# percentage_avg_conf = [60, 62, 65, 67, 70, 72, 74, 76, 78, 80, 82]\n",
    "\n",
    "# Set plot style\n",
    "plt.style.use('seaborn-whitegrid')\n",
    "\n",
    "# Create plot\n",
    "fig, ax = plt.subplots()\n",
    "\n",
    "# Add plot lines\n",
    "ax.plot(probs, percentage_confident_images, label='Percentage of Confident Images')\n",
    "ax.plot(probs, precentage_correct_conf, label='Percentage of Correct Confidence')\n",
    "ax.plot(probs, precentage_incorrect_conf, label='Percentage of Incorrect Confidence')\n",
    "# ax.plot(probs, percentage_avg_conf, label='Average Confidence')\n",
    "\n",
    "# Add legend, labels, and title\n",
    "ax.legend()\n",
    "ax.set_xlabel('Probability Threshold')\n",
    "ax.set_ylabel('Percentage')\n",
    "ax.set_title('Confidence vs Probability Threshold')\n",
    "\n",
    "# Customize tick labels\n",
    "ax.set_xticks(probs)\n",
    "ax.set_xticklabels(['50%', '55%', '60%', '65%', '70%', '75%', '80%', '85%', '90%', '95%', '99%'])\n",
    "ax.set_yticks([0, 0.25, 0.50, 0.75, 1])\n",
    "ax.set_yticklabels(['0', '0.25', '0.50', '0.75', '1'])\n",
    "\n",
    "# Add grid lines\n",
    "ax.grid(True, which='major', linestyle='--')\n",
    "\n",
    "# Show plot\n",
    "plt.show()\n",
    "\n",
    "\n",
    "\n",
    "\n"
   ]
  },
  {
   "cell_type": "code",
   "execution_count": 30,
   "metadata": {},
   "outputs": [
    {
     "data": {
      "image/png": "[encoded data removed]",
      "text/plain": [
       "<Figure size 640x480 with 1 Axes>"
      ]
     },
     "metadata": {},
     "output_type": "display_data"
    }
   ],
   "source": [
    "x = [0.6, 0.7, 0.8, 0.9]\n",
    "y = [0.42, 0.16, 0.05, 0.003]\n",
    "\n",
    "import matplotlib.pyplot as plt\n",
    "import numpy as np\n",
    "\n",
    "plt.plot(x, y)\n",
    "plt.xlabel('Threshold')\n",
    "plt.ylabel('Percentage of images')\n",
    "plt.xticks(x)\n",
    "\n",
    "# plot the e^-x function for x = 0.6 to 0.9 on the same plot\n",
    "x = np.arange(0.6, 0.9, 0.01)\n",
    "y = np.exp(-x)\n",
    "plt.plot(x, y)\n",
    "plt.show()\n"
   ]
  },
  {
   "cell_type": "code",
   "execution_count": null,
   "metadata": {},
   "outputs": [],
   "source": []
  }
 ],
 "metadata": {
  "kernelspec": {
   "display_name": "DL",
   "language": "python",
   "name": "python3"
  },
  "language_info": {
   "codemirror_mode": {
    "name": "ipython",
    "version": 3
   },
   "file_extension": ".py",
   "mimetype": "text/x-python",
   "name": "python",
   "nbconvert_exporter": "python",
   "pygments_lexer": "ipython3",
   "version": "3.9.16"
  },
  "orig_nbformat": 4
 },
 "nbformat": 4,
 "nbformat_minor": 2
}
